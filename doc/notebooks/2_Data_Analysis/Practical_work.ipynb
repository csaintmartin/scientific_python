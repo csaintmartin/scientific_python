{
 "cells": [
  {
   "cell_type": "code",
   "execution_count": 1,
   "metadata": {
    "collapsed": true
   },
   "outputs": [],
   "source": [
    "#Setup\n",
    "%load_ext autoreload\n",
    "%matplotlib nbagg\n",
    "%autoreload 2\n",
    "import numpy as np\n",
    "import pandas as pd\n",
    "import matplotlib.pyplot as plt\n",
    "import matplotlib as mpl"
   ]
  },
  {
   "cell_type": "markdown",
   "metadata": {},
   "source": [
    "# Practical work: take a look at the French Road Safety Data base  \n",
    "\n",
    "The purpose of this session is to highlight some data of this base using the panda module.\n",
    "\n",
    "The data can be downloaded at the following address : https://www.data.gouv.fr/fr/datasets/base-de-donnees-accidents-corporels-de-la-circulation/#_\n",
    "\n",
    "The needed files are also available in the DATA directory attached to this notebook. \n",
    "\n",
    "\n",
    "\n"
   ]
  },
  {
   "cell_type": "markdown",
   "metadata": {},
   "source": [
    "The data base is split in 4 files, the following ones will be used :\n",
    "\n",
    "- \"caracteristiques_2016.csv\" : gives global characteristics of the accident\n",
    "- \"usagers_2016.csv\" : gives information on the involved people\n",
    "- \"lieux_2016.csv\" : gives information on the location \n",
    "\n",
    "A detailed description of the base is given in the documentation : \"Description_des_bases_de_donnees_ONISR_-Annees_2005_a_2016.pdf\" (in French)\n",
    "\n"
   ]
  },
  {
   "cell_type": "markdown",
   "metadata": {},
   "source": [
    "## Questions"
   ]
  },
  {
   "cell_type": "markdown",
   "metadata": {},
   "source": [
    "**Question 1**: Load the 3 data bases and observe the different fields. Which one is common to all data base ? Concatenat the 3 data base in one ? (use de concat commande of panda) "
   ]
  },
  {
   "cell_type": "code",
   "execution_count": null,
   "metadata": {},
   "outputs": [],
   "source": []
  },
  {
   "cell_type": "markdown",
   "metadata": {},
   "source": [
    "**Question 2**: What is the ratio between male and female involved in an accident ? Show results in a graphical way."
   ]
  },
  {
   "cell_type": "code",
   "execution_count": null,
   "metadata": {},
   "outputs": [],
   "source": []
  },
  {
   "cell_type": "markdown",
   "metadata": {},
   "source": [
    "**Question 3**: What is the ratio between male and female involved in accident considering only the driver  ? Show results in a graphical way."
   ]
  },
  {
   "cell_type": "code",
   "execution_count": null,
   "metadata": {},
   "outputs": [],
   "source": []
  },
  {
   "cell_type": "markdown",
   "metadata": {},
   "source": [
    "**Question 4**: What is the ratio between male and female involved in accident considering all victims expect the driver  ? Show results in a graphical way."
   ]
  },
  {
   "cell_type": "code",
   "execution_count": null,
   "metadata": {},
   "outputs": [],
   "source": []
  },
  {
   "cell_type": "markdown",
   "metadata": {},
   "source": [
    "**Question 5**: What is the ratio between accidents taking place during the day, night, and transition day/night ? Show results in a graphical way."
   ]
  },
  {
   "cell_type": "code",
   "execution_count": null,
   "metadata": {
    "collapsed": true
   },
   "outputs": [],
   "source": []
  },
  {
   "cell_type": "markdown",
   "metadata": {},
   "source": [
    "**Question 6**: Propose a graphical representation to highlight the geographical position on each accident which has taken place on the metropolitan territory."
   ]
  },
  {
   "cell_type": "code",
   "execution_count": null,
   "metadata": {},
   "outputs": [],
   "source": []
  },
  {
   "cell_type": "markdown",
   "metadata": {},
   "source": [
    "**Question 7**: Propose a graphical repesentation to higlight the age of the involved victim. (You should first compute the age ot each personne)"
   ]
  },
  {
   "cell_type": "code",
   "execution_count": null,
   "metadata": {
    "collapsed": true
   },
   "outputs": [],
   "source": []
  }
 ],
 "metadata": {
  "kernelspec": {
   "display_name": "Python 3",
   "language": "python",
   "name": "python3"
  },
  "language_info": {
   "codemirror_mode": {
    "name": "ipython",
    "version": 3
   },
   "file_extension": ".py",
   "mimetype": "text/x-python",
   "name": "python",
   "nbconvert_exporter": "python",
   "pygments_lexer": "ipython3",
   "version": "3.6.2"
  }
 },
 "nbformat": 4,
 "nbformat_minor": 2
}
