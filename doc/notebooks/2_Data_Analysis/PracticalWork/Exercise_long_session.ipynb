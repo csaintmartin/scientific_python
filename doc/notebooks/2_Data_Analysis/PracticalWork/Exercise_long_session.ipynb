{
 "cells": [
  {
   "cell_type": "markdown",
   "metadata": {},
   "source": [
    "# Practical work (TP) : Tensile test analysis  \n",
    "\n",
    "In this session yo will have to analyse data comming from tensile test.\n",
    "\n",
    "The goal is to extracte carateristic data of the material, such as young moduls, poisson ratio, mecanical strength and yield strength from the laod displacement curve.\n",
    "\n",
    "At the end of this session you should have a class that is able to deal with the data comming from a tensile test. \n",
    "\n",
    "### This class must be able to :\n",
    "#### Level 1\n",
    "- read the data in a csv file\n",
    "- compute the nominal stress and nominal strain\n",
    "- compute the true stress and true strain\n",
    "- plot the relevante curves\n",
    "- detremine the Young moduls $E$\n",
    "- determine the Yield stress and the Yield stress a 0.02% of strain\n",
    "- determine the mecanical strenght\n",
    "\n",
    "#### Level 2\n",
    "- \n",
    "\n",
    "#### Level 3\n",
    "- compute the plastique strain ($\\varepsilon_p = \\varepsilon - \\dfrac{\\sigma}{E} $)\n",
    "- fit the stress / plastic strain curve with a power plastic law ($\\sigma = \\sigma_0 + K {\\varepsilon_p}^n $)"
   ]
  },
  {
   "cell_type": "code",
   "execution_count": null,
   "metadata": {},
   "outputs": [],
   "source": [
    "#Setup\n",
    "%load_ext autoreload\n",
    "%matplotlib nbagg\n",
    "%autoreload 2\n",
    "import numpy as np\n",
    "import pandas as pd\n",
    "import matplotlib.pyplot as plt\n",
    "import matplotlib as mpl"
   ]
  },
  {
   "cell_type": "markdown",
   "metadata": {},
   "source": [
    ".. codeauthor:: Emile Roux emile.roux@univ-smb.fr"
   ]
  },
  {
   "cell_type": "markdown",
   "metadata": {},
   "source": [
    "## Steps to structure your work\n",
    "\n",
    "1- Find the way to extracte the relevant data from one dataset (E, Re, Rm, ...)\n",
    "\n",
    "2- Structure your work using the class structure of python\n",
    "\n",
    "3- Performe the analysis on several load/displacement curves  \n",
    "\n"
   ]
  },
  {
   "cell_type": "markdown",
   "metadata": {},
   "source": [
    "## The dataset are in the following files :\n",
    "\n",
    "- Test_1.csv : \n",
    "    - unit are s/N/mm\n",
    "    - The initial length of the extensometre is $l_0=45.2 mm$\n",
    "    - The initial width of the sample is $w_0=12.7 mm$ \n",
    "    - The crosse section $S_0 = 11.8 mm^2$\n",
    "    - The initial distance between the tensil jaws is $L_0=48mm$\n",
    "    \n",
    "    \n",
    "\n",
    "- Test_2.csv : \n",
    "    - unit are s/N/mm\n",
    "    - The initial length of the extensometre is $l_0=97.6  mm$\n",
    "    - The initial width of the sample is $w_0= 10.1 mm$ \n",
    "    - The crosse section $S_0 = 11.6 mm^2$\n",
    "    - The initial distance between the tensil jaws is $L_0=  /$\n",
    "    \n",
    "    \n",
    " - Test_3.csv : \n",
    "    - unit are s/N/mm\n",
    "    - The initial length of the extensometre is $l_0=12.5  mm$\n",
    "    - The initial width of the sample is $w_0=/$ \n",
    "    - The crosse section $S_0 = 78.5 mm^2$\n",
    "    - The initial distance between the tensil jaws is $L_0=/$"
   ]
  },
  {
   "cell_type": "markdown",
   "metadata": {},
   "source": [
    "### Here is a simple template of the class that you should build"
   ]
  },
  {
   "cell_type": "code",
   "execution_count": null,
   "metadata": {},
   "outputs": [],
   "source": [
    "class tensileTest ():\n",
    "    \"\"\"\n",
    "    this class is able to ....\n",
    "    \"\"\"\n",
    "    def __init__(self, cvs_file='xxx'):\n",
    "        self.cvs_file = cvs_file\n",
    "        self.E = 0.0 # Young Moduls\n",
    "        # ...\n",
    "    \n",
    "    def __repr__(self):\n",
    "        return \"<tensileTest: (file: {0}, E = {1:.2} MPa)>\".format(self.cvs_file, self.E)\n",
    "    \n",
    "    def YoungModuls(self):\n",
    "        \"\"\"\n",
    "        TODO\n",
    "        \"\"\"\n",
    "        self.E = 0.0\n",
    "    "
   ]
  },
  {
   "cell_type": "code",
   "execution_count": null,
   "metadata": {},
   "outputs": [],
   "source": [
    "test=tensileTest()\n",
    "test"
   ]
  },
  {
   "cell_type": "code",
   "execution_count": null,
   "metadata": {},
   "outputs": [],
   "source": []
  },
  {
   "cell_type": "code",
   "execution_count": null,
   "metadata": {},
   "outputs": [],
   "source": []
  },
  {
   "cell_type": "code",
   "execution_count": null,
   "metadata": {},
   "outputs": [],
   "source": []
  },
  {
   "cell_type": "code",
   "execution_count": null,
   "metadata": {},
   "outputs": [],
   "source": []
  },
  {
   "cell_type": "code",
   "execution_count": null,
   "metadata": {},
   "outputs": [],
   "source": []
  },
  {
   "cell_type": "code",
   "execution_count": null,
   "metadata": {},
   "outputs": [],
   "source": []
  }
 ],
 "metadata": {
  "kernelspec": {
   "display_name": "Python 3",
   "language": "python",
   "name": "python3"
  },
  "language_info": {
   "codemirror_mode": {
    "name": "ipython",
    "version": 3
   },
   "file_extension": ".py",
   "mimetype": "text/x-python",
   "name": "python",
   "nbconvert_exporter": "python",
   "pygments_lexer": "ipython3",
   "version": "3.6.2"
  }
 },
 "nbformat": 4,
 "nbformat_minor": 2
}
