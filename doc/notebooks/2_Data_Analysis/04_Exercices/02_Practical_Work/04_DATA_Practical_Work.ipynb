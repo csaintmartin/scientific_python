{
 "cells": [
  {
   "cell_type": "markdown",
   "metadata": {},
   "source": [
    "# Practical work (TP) : Tensile test analysis  \n",
    "\n",
    "In this session yo will have to analyze data coming from the tensile test.\n",
    "\n",
    "The goal is to extract characteristic data of the material, such as Young modulus, mechanical strength and yield strength from the load/displacement curve.\n",
    "\n",
    "At the end of this session you should have a class that is able to deal with the data coming from a tensile test. \n",
    "\n",
    "### This class must be able to :\n",
    "\n",
    "#### Level 0\n",
    "- read the data in a csv file\n",
    "- compute the nominal stress and nominal strain\n",
    "- compute the true stress and true strain\n",
    "- plot the relevant curves\n",
    "\n",
    "#### Level 1\n",
    "- read automatically the header metadata of csv file\n",
    "- determine the Young modulus $E$\n",
    "- determine the Yield stress and the Yield stress a 0.02% of strain\n",
    "- determine the mechanical strength\n",
    "\n",
    "#### Level 2\n",
    "- compute the plastique strain ($\\varepsilon_p = \\varepsilon - \\dfrac{\\sigma}{E} $)\n",
    "- fit the stress / plastic strain curve with a power plastic law ($\\sigma = \\sigma_0 + K {\\varepsilon_p}^n $) \n",
    "\n",
    "#### Level 3\n",
    "- Run the procedure over all the tests\n"
   ]
  },
  {
   "cell_type": "code",
   "execution_count": 2,
   "metadata": {},
   "outputs": [],
   "source": [
    "#Setup\n",
    "%load_ext autoreload\n",
    "%matplotlib nbagg\n",
    "%autoreload 2\n",
    "import numpy as np\n",
    "import pandas as pd\n",
    "import matplotlib.pyplot as plt\n",
    "import matplotlib as mpl"
   ]
  },
  {
   "cell_type": "markdown",
   "metadata": {},
   "source": [
    ".. codeauthor:: Emile Roux emile.roux@univ-smb.fr"
   ]
  },
  {
   "cell_type": "markdown",
   "metadata": {},
   "source": [
    "## Steps to structure your work\n",
    "\n",
    "1- Find the way to extract the relevant data from one dataset (E, Re, Rm, ...)\n",
    "\n",
    "2- Structure your work using the class structure of python\n",
    "\n",
    "3- Perform analysis on several loads/displacement curves  \n",
    "\n",
    "\n"
   ]
  },
  {
   "cell_type": "markdown",
   "metadata": {},
   "source": [
    "## The dataset are in the following files :\n",
    "***unit are s/N/mm***\n",
    "\n",
    "- Test_1.csv\n",
    "- Test_2.csv\n",
    "- Test_3.csv \n",
    "- Test_4.csv\n"
   ]
  },
  {
   "cell_type": "markdown",
   "metadata": {},
   "source": [
    "## Usefull function "
   ]
  },
  {
   "cell_type": "code",
   "execution_count": 3,
   "metadata": {},
   "outputs": [
    {
     "name": "stdout",
     "output_type": "stream",
     "text": [
      "z \n",
      " 143.2\n"
     ]
    }
   ],
   "source": [
    "line = \"z = 143.2\"\n",
    "a,b = line.split(\"=\")\n",
    "print(a)\n",
    "print(b)"
   ]
  },
  {
   "cell_type": "markdown",
   "metadata": {},
   "source": [
    "### Here is a simple template of the class that you should build"
   ]
  },
  {
   "cell_type": "code",
   "execution_count": 4,
   "metadata": {},
   "outputs": [],
   "source": [
    "class tensileTest ():\n",
    "    \"\"\"\n",
    "    this class is able to ....\n",
    "    \"\"\"\n",
    "    def __init__(self, cvs_file='xxx'):\n",
    "        self.cvs_file = cvs_file\n",
    "        self.E = 0.0 # Young Moduls\n",
    "        # ...\n",
    "    \n",
    "    def __repr__(self):\n",
    "        return \"<tensileTest: (file: {0}, E = {1:.2} MPa)>\".format(self.cvs_file, self.E)\n",
    "    \n",
    "    def YoungModuls(self):\n",
    "        \"\"\"\n",
    "        TODO\n",
    "        \"\"\"\n",
    "        self.E = 0.0\n",
    "    \n",
    "\n",
    "    "
   ]
  },
  {
   "cell_type": "code",
   "execution_count": 6,
   "metadata": {},
   "outputs": [],
   "source": [
    "test1=tensileTest() # call the __init__ function"
   ]
  },
  {
   "cell_type": "code",
   "execution_count": 7,
   "metadata": {},
   "outputs": [
    {
     "data": {
      "text/plain": [
       "<tensileTest: (file: xxx, E = 0.0 MPa)>"
      ]
     },
     "execution_count": 7,
     "metadata": {},
     "output_type": "execute_result"
    }
   ],
   "source": [
    "test1 # call the __repr__ function"
   ]
  },
  {
   "cell_type": "code",
   "execution_count": null,
   "metadata": {
    "collapsed": true
   },
   "outputs": [],
   "source": []
  },
  {
   "cell_type": "code",
   "execution_count": null,
   "metadata": {
    "collapsed": true
   },
   "outputs": [],
   "source": []
  },
  {
   "cell_type": "code",
   "execution_count": null,
   "metadata": {
    "collapsed": true
   },
   "outputs": [],
   "source": []
  }
 ],
 "metadata": {
  "kernelspec": {
   "display_name": "Python 3",
   "language": "python",
   "name": "python3"
  },
  "language_info": {
   "codemirror_mode": {
    "name": "ipython",
    "version": 3
   },
   "file_extension": ".py",
   "mimetype": "text/x-python",
   "name": "python",
   "nbconvert_exporter": "python",
   "pygments_lexer": "ipython3",
   "version": "3.6.2"
  }
 },
 "nbformat": 4,
 "nbformat_minor": 2
}
